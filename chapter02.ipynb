{
 "cells": [
  {
   "cell_type": "code",
   "execution_count": 17,
   "metadata": {},
   "outputs": [],
   "source": [
    "import re"
   ]
  },
  {
   "cell_type": "markdown",
   "metadata": {},
   "source": [
    "# 摂氏から華氏への変換"
   ]
  },
  {
   "cell_type": "markdown",
   "metadata": {},
   "source": [
    "## 入力が数値のみの場合"
   ]
  },
  {
   "cell_type": "markdown",
   "metadata": {},
   "source": [
    "`re`モジュールでは，`(?P<name>regexp)`という形でマッチさせることでマッチ後に取り出すキーワードを指定できる．"
   ]
  },
  {
   "cell_type": "code",
   "execution_count": 164,
   "metadata": {},
   "outputs": [],
   "source": [
    "def transform_temprature(input_string):\n",
    "    prog = re.compile(r'(?P<temp>^[0-9]+$)')\n",
    "    m = prog.match(input_string)\n",
    "    \n",
    "    if m:\n",
    "        temp = int(m.group('temp'))\n",
    "        trans_temp = (temp * 9 / 5) + 32\n",
    "    else:\n",
    "        raise ValueError('input has to be numbers')\n",
    "        \n",
    "    print('{celsius} C is {fahrenheit} F'.format(celsius = temp, fahrenheit = trans_temp))"
   ]
  },
  {
   "cell_type": "code",
   "execution_count": 165,
   "metadata": {},
   "outputs": [
    {
     "name": "stdout",
     "output_type": "stream",
     "text": [
      "1000 C is 1832.0 F\n"
     ]
    }
   ],
   "source": [
    "transform_temprature('1000')"
   ]
  },
  {
   "cell_type": "markdown",
   "metadata": {},
   "source": [
    "## 入力にマイナスを許す場合  \n",
    "`-?`を先頭につけることでマイナスの場合を扱える．"
   ]
  },
  {
   "cell_type": "code",
   "execution_count": 166,
   "metadata": {},
   "outputs": [],
   "source": [
    "def transform_temprature(input_string):\n",
    "    prog = re.compile(r'(?P<temp>^-?[0-9]+$)')\n",
    "    m = prog.match(input_string)\n",
    "    \n",
    "    if m:\n",
    "        temp = int(m.group('temp'))\n",
    "        trans_temp = (temp * 9 / 5) + 32\n",
    "    else:\n",
    "        raise ValueError('input has to be numbers')\n",
    "    \n",
    "    print('{celsius} C is {fahrenheit} F'.format(celsius = temp, fahrenheit = trans_temp))"
   ]
  },
  {
   "cell_type": "code",
   "execution_count": 167,
   "metadata": {},
   "outputs": [
    {
     "name": "stdout",
     "output_type": "stream",
     "text": [
      "-30 C is -22.0 F\n"
     ]
    }
   ],
   "source": [
    "transform_temprature('-30')"
   ]
  },
  {
   "cell_type": "markdown",
   "metadata": {},
   "source": [
    "## 入力を摂氏，華氏両方に対応する場合  "
   ]
  },
  {
   "cell_type": "code",
   "execution_count": 168,
   "metadata": {},
   "outputs": [],
   "source": [
    "def calc(x, m):\n",
    "    if m == 'C':\n",
    "        return (x * 9 / 5) + 32\n",
    "    elif m == 'F':\n",
    "        return (x - 32) / 9 * 5\n",
    "\n",
    "def transform_temprature(input_string):\n",
    "    prog = re.compile(r'(?P<temp>^-?[0-9]+)\\s*(?P<type>[CF])$')\n",
    "    m = prog.match(input_string)\n",
    "    temp = int(m.group('temp'))\n",
    "    \n",
    "    if m:\n",
    "        if m.group('type'):\n",
    "            trans_temp = calc(x = temp, m = m.group('type'))\n",
    "            print('{celsius:.2f} C is {fahrenheit:.2f} F'.format(celsius = temp, fahrenheit = trans_temp))\n",
    "        else:\n",
    "            raise Warning('warning: default conversion method C -> F')\n",
    "            trans_temp = calc(x = temp, m = 'C')\n",
    "            print('{fahrenheit:.2f} F is {celsius:.2f} C'.format(fahrenheit = temp, celsius = trans_temp))\n",
    "\n",
    "    else:\n",
    "        raise ValueError('input has to be numbers')\n",
    "\n",
    "            "
   ]
  },
  {
   "cell_type": "code",
   "execution_count": 169,
   "metadata": {},
   "outputs": [
    {
     "name": "stdout",
     "output_type": "stream",
     "text": [
      "-30.00 C is -22.00 F\n"
     ]
    }
   ],
   "source": [
    "s = '-30 C'\n",
    "transform_temprature(s)"
   ]
  },
  {
   "cell_type": "code",
   "execution_count": 134,
   "metadata": {},
   "outputs": [
    {
     "name": "stdout",
     "output_type": "stream",
     "text": [
      "22.00 C is -5.56 F\n"
     ]
    }
   ],
   "source": [
    "s = '22 F'\n",
    "transform_temprature(s)"
   ]
  },
  {
   "cell_type": "markdown",
   "metadata": {},
   "source": [
    "## 大文字／小文字を区別しない"
   ]
  },
  {
   "cell_type": "code",
   "execution_count": 188,
   "metadata": {},
   "outputs": [],
   "source": [
    "def calc(x, m):\n",
    "    if m == 'C':\n",
    "        return (x * 9 / 5) + 32\n",
    "    elif m == 'F':\n",
    "        return (x - 32) / 9 * 5\n",
    "\n",
    "def transform_temprature(input_string):\n",
    "    prog = re.compile(r'(?P<temp>^-?[0-9]+)\\s*(?P<type>[CF])$', re.IGNORECASE)\n",
    "    m = prog.match(input_string)\n",
    "    input_value = int(m.group('temp'))\n",
    "    input_type = m.group('type').upper()\n",
    "    output_type = [e for e in 'CF' if e != input_type][0]\n",
    "    \n",
    "    if m:\n",
    "        if m.group('type'):\n",
    "            output_value = calc(x = input_value, m = input_type)\n",
    "            print('{input_value:.2f} {input_type} is {output_value:.2f} {output_type}'.format(\n",
    "                input_value = input_value,\n",
    "                input_type = input_type,\n",
    "                output_value = output_value,\n",
    "                output_type = output_type\n",
    "            ))\n",
    "        else:\n",
    "            raise Warning('warning: default conversion method C -> F')\n",
    "            output_value = calc(x = input_value, m = 'C')\n",
    "            print('{celsius:.2f} F is {fahrenheit:.2f} C'.format(fahrenheit = output_value, celsius = input_value))\n",
    "\n",
    "    else:\n",
    "        raise ValueError('input has to be numbers')\n",
    "\n",
    "            "
   ]
  },
  {
   "cell_type": "code",
   "execution_count": 189,
   "metadata": {},
   "outputs": [
    {
     "name": "stdout",
     "output_type": "stream",
     "text": [
      "-30.00 C is -22.00 F\n"
     ]
    }
   ],
   "source": [
    "transform_temprature('-30 c')"
   ]
  },
  {
   "cell_type": "code",
   "execution_count": 191,
   "metadata": {},
   "outputs": [
    {
     "name": "stdout",
     "output_type": "stream",
     "text": [
      "1000.00 F is 537.78 C\n"
     ]
    }
   ],
   "source": [
    "transform_temprature('1000      f')"
   ]
  },
  {
   "cell_type": "markdown",
   "metadata": {},
   "source": [
    "# テキストの書き換え  "
   ]
  },
  {
   "cell_type": "code",
   "execution_count": 206,
   "metadata": {},
   "outputs": [
    {
     "data": {
      "text/plain": [
       "('Jeffrey Friendly', 1)"
      ]
     },
     "execution_count": 206,
     "metadata": {},
     "output_type": "execute_result"
    }
   ],
   "source": [
    "prog = re.compile(r'\\bJeff\\b', re.IGNORECASE)\n",
    "prog.subn(string = \"jeff Friendly\", repl = 'Jeffrey')"
   ]
  },
  {
   "cell_type": "code",
   "execution_count": 228,
   "metadata": {},
   "outputs": [
    {
     "data": {
      "text/plain": [
       "'Dear =FIRST=,\\nYou have been chosen to win a brand new =TRINKET=! Free!\\nCould you use another =TRINKET= in the =FAMILY= household?\\nYes =SUCKER=, I bet you could! Just respond by.....\\n\\n\\n\\n\\n-----------------------------------------------------------------------------\\nCopyright 1997-2020 Jeffrey Friedl\\n'"
      ]
     },
     "execution_count": 228,
     "metadata": {},
     "output_type": "execute_result"
    }
   ],
   "source": [
    "import urllib3\n",
    "http = urllib3.PoolManager()\n",
    "r = http.request('GET', 'http://regex.info/dlisting.cgi?ed=3&id=36378')\n",
    "sample_text = r.data.decode('utf-8')\n",
    "sample_text"
   ]
  },
  {
   "cell_type": "markdown",
   "metadata": {},
   "source": [
    "このテキストを次のような変数の値で置き換える．\n",
    "\n",
    "|box|replace|\n",
    "|:-|:-|\n",
    "|=FIRST=|given|\n",
    "|=FAMILY=|family|\n",
    "|=SUCKER=|given family|\n",
    "|=TRINKET=|'fabulous' wunderprize|"
   ]
  },
  {
   "cell_type": "code",
   "execution_count": 231,
   "metadata": {},
   "outputs": [],
   "source": [
    "given = \"Tom\"\n",
    "family = \"Cruise\"\n",
    "wunderprize = \"100% genuine faux diamond\""
   ]
  },
  {
   "cell_type": "code",
   "execution_count": 232,
   "metadata": {},
   "outputs": [],
   "source": [
    "fst = re.compile(r'=FIRST=')\n",
    "fam = re.compile(r'=FAMILY=')\n",
    "suc = re.compile(r'=SUCKER=')\n",
    "tri = re.compile(r'=TRINKET=')"
   ]
  },
  {
   "cell_type": "code",
   "execution_count": 234,
   "metadata": {},
   "outputs": [],
   "source": [
    "tmp = sample_text\n",
    "tmp = fst.sub(string = tmp, repl = given)\n",
    "tmp = fam.sub(string = tmp, repl = family)\n",
    "tmp = suc.sub(string = tmp, repl = ' '.join([given, family]))\n",
    "tmp = tri.sub(string = tmp, repl = 'fabulous ' + wunderprize)"
   ]
  },
  {
   "cell_type": "code",
   "execution_count": 235,
   "metadata": {},
   "outputs": [
    {
     "data": {
      "text/plain": [
       "'Dear Tom,\\nYou have been chosen to win a brand new fabulous 100% genuine faux diamond! Free!\\nCould you use another fabulous 100% genuine faux diamond in the Cruise household?\\nYes Tom Cruise, I bet you could! Just respond by.....\\n\\n\\n\\n\\n-----------------------------------------------------------------------------\\nCopyright 1997-2020 Jeffrey Friedl\\n'"
      ]
     },
     "execution_count": 235,
     "metadata": {},
     "output_type": "execute_result"
    }
   ],
   "source": [
    "tmp"
   ]
  },
  {
   "cell_type": "markdown",
   "metadata": {},
   "source": [
    "# 小数点の切り捨て  "
   ]
  },
  {
   "cell_type": "code",
   "execution_count": 277,
   "metadata": {},
   "outputs": [],
   "source": [
    "prog = re.compile(r'(?P<print_number>\\d*\\.\\d\\d[1-9]?)\\d*')\n",
    "m = prog.search('9.05000037272')"
   ]
  },
  {
   "cell_type": "code",
   "execution_count": 278,
   "metadata": {},
   "outputs": [
    {
     "data": {
      "text/plain": [
       "'9.05'"
      ]
     },
     "execution_count": 278,
     "metadata": {},
     "output_type": "execute_result"
    }
   ],
   "source": [
    "m.group('print_number')"
   ]
  },
  {
   "cell_type": "markdown",
   "metadata": {},
   "source": [
    "# シンプルなメールユーティリティ  "
   ]
  },
  {
   "cell_type": "code",
   "execution_count": 30,
   "metadata": {},
   "outputs": [
    {
     "data": {
      "text/plain": [
       "'From elvis Thu Feb 29 11:15 2007\\nReceived: from elvis@localhost by tabloid.org (8.11.3) id KA8CMY\\nReceived: from tabloid.org by gateway.net (8.12.5/2) id N8XBK\\nTo: jfriedl@regex.info (Jeffrey Friedl)\\nFrom: elvis@tabloid.org (The King)\\nDate: Thu, Feb 29 2007 11:15\\nMessage-Id: <2007022939939.KA8CMY@tabloid.org>\\nSubject: Be seein\\' ya around\\nReply-To: elvis@hh.tabloid.org\\nX-Mailer: Madam Zelda\\'s Psychic Orb [version 3.7 PL92]\\n\\nSorry I haven\\'t been around lately. A few years back I checked\\ninto that ole heartbreak hotel in the sky, ifyaknowwhatImean.\\nThe Duke says \"hi\".\\n        Elvis\\n\\n\\n\\n\\n-----------------------------------------------------------------------------\\nCopyright 1997-2020 Jeffrey Friedl\\n'"
      ]
     },
     "execution_count": 30,
     "metadata": {},
     "output_type": "execute_result"
    }
   ],
   "source": [
    "import urllib3\n",
    "http = urllib3.PoolManager()\n",
    "r = http.request('GET', 'http://regex.info/dlisting.cgi?ed=3&id=36382')\n",
    "king_in_raw = r.data.decode('utf-8')\n",
    "king_in_raw"
   ]
  },
  {
   "cell_type": "code",
   "execution_count": 39,
   "metadata": {},
   "outputs": [
    {
     "data": {
      "text/plain": [
       "'From elvis Thu Feb 29 11:15 2007\\nReceived: from elvis@localhost by tabloid.org (8.11.3) id KA8CMY\\nReceived: from tabloid.org by gateway.net (8.12.5/2) id N8XBK\\nTo: jfriedl@regex.info (Jeffrey Friedl)\\nFrom: elvis@tabloid.org (The King)\\nDate: Thu, Feb 29 2007 11:15\\nMessage-Id: <2007022939939.KA8CMY@tabloid.org>\\nSubject: Be seein\\' ya around\\nReply-To: elvis@hh.tabloid.org\\nX-Mailer: Madam Zelda\\'s Psychic Orb [version 3.7 PL92]\\n\\nSorry I haven\\'t been around lately. A few years back I checked\\ninto that ole heartbreak hotel in the sky, ifyaknowwhatImean.\\nThe Duke says \"hi\".\\n        Elvis'"
      ]
     },
     "execution_count": 39,
     "metadata": {},
     "output_type": "execute_result"
    }
   ],
   "source": [
    "king_in = re.split(r'\\n\\n\\n\\n\\n', king_in_raw)[0]\n",
    "king_in"
   ]
  },
  {
   "cell_type": "code",
   "execution_count": 40,
   "metadata": {},
   "outputs": [
    {
     "data": {
      "text/plain": [
       "['From elvis Thu Feb 29 11:15 2007',\n",
       " 'Received: from elvis@localhost by tabloid.org (8.11.3) id KA8CMY',\n",
       " 'Received: from tabloid.org by gateway.net (8.12.5/2) id N8XBK',\n",
       " 'To: jfriedl@regex.info (Jeffrey Friedl)',\n",
       " 'From: elvis@tabloid.org (The King)',\n",
       " 'Date: Thu, Feb 29 2007 11:15',\n",
       " 'Message-Id: <2007022939939.KA8CMY@tabloid.org>',\n",
       " \"Subject: Be seein' ya around\",\n",
       " 'Reply-To: elvis@hh.tabloid.org',\n",
       " \"X-Mailer: Madam Zelda's Psychic Orb [version 3.7 PL92]\",\n",
       " '',\n",
       " \"Sorry I haven't been around lately. A few years back I checked\",\n",
       " 'into that ole heartbreak hotel in the sky, ifyaknowwhatImean.',\n",
       " 'The Duke says \"hi\".',\n",
       " '        Elvis']"
      ]
     },
     "execution_count": 40,
     "metadata": {},
     "output_type": "execute_result"
    }
   ],
   "source": [
    "re.split(r'\\n', king_in)"
   ]
  },
  {
   "cell_type": "code",
   "execution_count": 73,
   "metadata": {},
   "outputs": [],
   "source": [
    "def make_reply(mail, detectors):\n",
    "    response = {}\n",
    "    message = []\n",
    "    is_emptyLine = re.compile(r'^(\\s*|.*:.*)$')\n",
    "    \n",
    "    for l in re.split(r'\\n', mail):\n",
    "        for d_name, d_func in detectors.items():\n",
    "            if d_func.search(l):\n",
    "                response[d_name] = d_func.search(l).group(d_name)\n",
    "        if not is_emptyLine.search(l):\n",
    "            message.append('|> ' + l)\n",
    "    \n",
    "    response['message'] = '\\n'.join(message)\n",
    "    \n",
    "    return response    "
   ]
  },
  {
   "cell_type": "code",
   "execution_count": 76,
   "metadata": {},
   "outputs": [],
   "source": [
    "detectors = {\n",
    "    'To':re.compile(r'To:\\s(?P<To>.*)'),\n",
    "    'From':re.compile(r'From:\\s(?P<From>\\S+)'),\n",
    "    'Date':re.compile(r'Date:\\s(?P<Date>.*)'),\n",
    "    'Subject':re.compile(r'Subject:\\s(?P<Subject>.*)'),\n",
    "}"
   ]
  },
  {
   "cell_type": "code",
   "execution_count": 77,
   "metadata": {},
   "outputs": [
    {
     "data": {
      "text/plain": [
       "{'To': 'elvis@hh.tabloid.org',\n",
       " 'From': 'elvis@tabloid.org',\n",
       " 'Date': 'Thu, Feb 29 2007 11:15',\n",
       " 'Subject': \"Be seein' ya around\",\n",
       " 'message': '|> Sorry I haven\\'t been around lately. A few years back I checked\\n|> into that ole heartbreak hotel in the sky, ifyaknowwhatImean.\\n|> The Duke says \"hi\".\\n|>         Elvis'}"
      ]
     },
     "execution_count": 77,
     "metadata": {},
     "output_type": "execute_result"
    }
   ],
   "source": [
    "make_reply(king_in, detectors)"
   ]
  },
  {
   "cell_type": "markdown",
   "metadata": {},
   "source": [
    "# 先後読みによる数値へのカンマ付け"
   ]
  },
  {
   "cell_type": "markdown",
   "metadata": {},
   "source": [
    "298444215 -> 298,444,215\n",
    "\n",
    "のような感じでカンマ区切りを挿入する．"
   ]
  },
  {
   "cell_type": "markdown",
   "metadata": {},
   "source": [
    "## 先読み  "
   ]
  },
  {
   "cell_type": "markdown",
   "metadata": {},
   "source": [
    "先読み構文は，テキストではなく，テキストの中の位置にマッチする．この時先読みでは，単語の境界やアンカーなどの特殊条件だけに対応するのではない．  \n",
    "先読みは，テキストの先の方に対して部分正規表現がマッチするかを調べ，マッチするなら正規表現要素として成功となる．\n",
    "\n",
    "__肯定の先読み__ は `(?=...)`という形で使用できる．例えば`(?=\\d)`は次の値が数値になっている位置で成功する．  \n",
    "\n",
    "__後読み__は既に読んだ左の文章を振り返る形で部分正規表現がマッチするかを調べる．これは`(?<=...)`という形で使用する．  \n",
    "`(?<=\\d)`は左側に数値がある位置で成功する．  \n",
    "\n",
    "大事なことは，先後読みでは__テキストを消費しない__ことである．"
   ]
  },
  {
   "cell_type": "code",
   "execution_count": 79,
   "metadata": {},
   "outputs": [
    {
     "data": {
      "text/plain": [
       "<re.Match object; span=(3, 10), match='Jeffrey'>"
      ]
     },
     "execution_count": 79,
     "metadata": {},
     "output_type": "execute_result"
    }
   ],
   "source": [
    "# 通常の正規表現のマッチ\n",
    "prog = re.compile(r'Jeffrey')\n",
    "prog.search('by Jeffrey Friendl')"
   ]
  },
  {
   "cell_type": "markdown",
   "metadata": {},
   "source": [
    "`(?=Jeffrey)Jeff`は`Jeffrey`となっている部分の先頭が`Jeff`となっている部分に限りマッチする．なので，`Jefferson`のJeffにはマッチしない．"
   ]
  },
  {
   "cell_type": "code",
   "execution_count": 85,
   "metadata": {},
   "outputs": [
    {
     "data": {
      "text/plain": [
       "<re.Match object; span=(3, 7), match='Jeff'>"
      ]
     },
     "execution_count": 85,
     "metadata": {},
     "output_type": "execute_result"
    }
   ],
   "source": [
    "# 先読みの場合\n",
    "prog = re.compile(r'(?=Jeffrey)Jeff')\n",
    "prog.search('by Jeffrey Jefferson')"
   ]
  },
  {
   "cell_type": "code",
   "execution_count": 89,
   "metadata": {},
   "outputs": [
    {
     "data": {
      "text/plain": [
       "('by ++++rey, Jefferson', 1)"
      ]
     },
     "execution_count": 89,
     "metadata": {},
     "output_type": "execute_result"
    }
   ],
   "source": [
    "prog.subn(string='by Jeffrey, Jefferson', repl='++++')"
   ]
  },
  {
   "cell_type": "markdown",
   "metadata": {},
   "source": [
    "`(?=Jeffrey)Jeff`と`Jeff(?=rey)`は実質的に同じ効果になる．"
   ]
  },
  {
   "cell_type": "code",
   "execution_count": 90,
   "metadata": {},
   "outputs": [
    {
     "data": {
      "text/plain": [
       "'++++rey Jefferson'"
      ]
     },
     "execution_count": 90,
     "metadata": {},
     "output_type": "execute_result"
    }
   ],
   "source": [
    "prog = re.compile(r'Jeff(?=rey)')\n",
    "prog.sub(string = 'Jeffrey Jefferson', repl = '++++')"
   ]
  },
  {
   "cell_type": "markdown",
   "metadata": {},
   "source": [
    "## そのほかの例  \n",
    "`Jeffs`を`Jeff's`に置き換えてみる．  \n",
    "もちろんこれは`r'\\bJeffs\\b`をマッチさせて`Jeff's`に置換するだけでも良い  \n",
    "`r'\\b(Jeff)(s)'`で変数に入れておいて変換するのも良い．\n",
    "\n",
    "\n",
    "先読みを使ってみよう"
   ]
  },
  {
   "cell_type": "code",
   "execution_count": 92,
   "metadata": {},
   "outputs": [
    {
     "data": {
      "text/plain": [
       "\"Jeff's Jeffson\""
      ]
     },
     "execution_count": 92,
     "metadata": {},
     "output_type": "execute_result"
    }
   ],
   "source": [
    "prog = re.compile(r'Jeff(?=s\\b)')\n",
    "prog.sub(string = 'Jeffs Jeffson', repl = \"Jeff'\")"
   ]
  },
  {
   "cell_type": "markdown",
   "metadata": {},
   "source": [
    "# 先読みと後読みを使う  \n",
    "`Jeffs`を`Jeff's`に変換するには，わざわざ文字列を置換しなくでも，`Jeff`と`s`の間に`'`を挿入できれば良い，と考えれば  \n",
    "`(?<=\\bJeff)(s\\b)`でマッチした位置を置換すれば良いと考えられる．"
   ]
  },
  {
   "cell_type": "code",
   "execution_count": 95,
   "metadata": {},
   "outputs": [
    {
     "data": {
      "text/plain": [
       "\"Jeff's Jeffson\""
      ]
     },
     "execution_count": 95,
     "metadata": {},
     "output_type": "execute_result"
    }
   ],
   "source": [
    "prog = re.compile(r'(?<=\\bJeff)(?=s\\b)')\n",
    "prog.sub(string = 'Jeffs Jeffson', repl = \"'\")"
   ]
  },
  {
   "cell_type": "code",
   "execution_count": 96,
   "metadata": {},
   "outputs": [
    {
     "data": {
      "text/plain": [
       "'Jeff++++s Jeff++++s'"
      ]
     },
     "execution_count": 96,
     "metadata": {},
     "output_type": "execute_result"
    }
   ],
   "source": [
    "prog.sub(string = 'Jeffs Jeffs', repl = '++++')"
   ]
  },
  {
   "cell_type": "markdown",
   "metadata": {},
   "source": [
    "ちなみに，先読み後読みは順序を逆にしても適切に指定すれば結果は同じになる．"
   ]
  },
  {
   "cell_type": "code",
   "execution_count": 97,
   "metadata": {},
   "outputs": [
    {
     "data": {
      "text/plain": [
       "\"Jeff's Jeffson\""
      ]
     },
     "execution_count": 97,
     "metadata": {},
     "output_type": "execute_result"
    }
   ],
   "source": [
    "prog = re.compile(r'(?=s\\b)(?<=\\bJeff)')\n",
    "prog.sub(string = 'Jeffs Jeffson', repl = \"'\")"
   ]
  },
  {
   "cell_type": "markdown",
   "metadata": {},
   "source": [
    "## 数値にカンマを入れる"
   ]
  },
  {
   "cell_type": "code",
   "execution_count": 101,
   "metadata": {},
   "outputs": [],
   "source": [
    "s = '298444215'"
   ]
  },
  {
   "cell_type": "markdown",
   "metadata": {},
   "source": [
    "カンマを入れる条件  \n",
    "1. 右側に３の倍数個の数字がある: `(?=\\d\\d\\d)+$`\n",
    "1. 左側に何らかの数字がある位置: `(?<=\\d)`"
   ]
  },
  {
   "cell_type": "code",
   "execution_count": 105,
   "metadata": {},
   "outputs": [
    {
     "data": {
      "text/plain": [
       "'298,444,215'"
      ]
     },
     "execution_count": 105,
     "metadata": {},
     "output_type": "execute_result"
    }
   ],
   "source": [
    "prog = re.compile(r'(?<=\\d)(?=(\\d\\d\\d)+$)')\n",
    "prog.sub(string = s, repl = ',')"
   ]
  },
  {
   "cell_type": "markdown",
   "metadata": {},
   "source": [
    "各３桁の数値については，キャプチャしているがこれは特に必要ないので明確な処理を記述するのであれば"
   ]
  },
  {
   "cell_type": "code",
   "execution_count": 106,
   "metadata": {},
   "outputs": [
    {
     "data": {
      "text/plain": [
       "'298,444,215'"
      ]
     },
     "execution_count": 106,
     "metadata": {},
     "output_type": "execute_result"
    }
   ],
   "source": [
    "prog = re.compile(r'(?<=\\d)(?=(?:\\d\\d\\d)+$)')\n",
    "prog.sub(string = s, repl = ',')"
   ]
  },
  {
   "cell_type": "markdown",
   "metadata": {},
   "source": [
    "とすると良いだろう．"
   ]
  },
  {
   "cell_type": "markdown",
   "metadata": {},
   "source": [
    "# 単語の境界と否定の先後読み  "
   ]
  },
  {
   "cell_type": "markdown",
   "metadata": {},
   "source": [
    "数値のカンマ付けを拡張して文章中の数字にもカンマを挿入できるようにしてみよう  "
   ]
  },
  {
   "cell_type": "code",
   "execution_count": 115,
   "metadata": {},
   "outputs": [],
   "source": [
    "s = 'The population of 29844421 is growing 999999999'"
   ]
  },
  {
   "cell_type": "code",
   "execution_count": 116,
   "metadata": {},
   "outputs": [
    {
     "data": {
      "text/plain": [
       "'The population of 29,844,421 is growing 999,999,999'"
      ]
     },
     "execution_count": 116,
     "metadata": {},
     "output_type": "execute_result"
    }
   ],
   "source": [
    "prog = re.compile(r'(?<=\\d)(?=(?:\\d\\d\\d)+\\b)')\n",
    "prog.sub(string = s, repl = \",\")"
   ]
  },
  {
   "cell_type": "markdown",
   "metadata": {},
   "source": [
    "# メールアドレスのリンク化"
   ]
  },
  {
   "cell_type": "markdown",
   "metadata": {},
   "source": [
    "メールアドレスにマッチする単純な正規表現  \n",
    "- `\\w+\\@\\w+(\\.\\w+)+`\n",
    "\n",
    "改良版\n",
    "- `\\w[-.\\w]*+\\@[-a-z0-9]+(\\.[-a-z0-9]+)*\\.(com|edu|info)`\n",
    "\n",
    "末尾の文字に否定の後読み（これで終わってはいけない文字）を追加する\n",
    "- `https?://[-a-z0-9]+(\\.[-a-z0-9]+*\\.(com|edu|info))\\b([-a-z0-9_:\\@&?=+,.!~*'%\\$]*(?<![.,?!]))?`"
   ]
  },
  {
   "cell_type": "code",
   "execution_count": null,
   "metadata": {},
   "outputs": [],
   "source": []
  }
 ],
 "metadata": {
  "kernelspec": {
   "display_name": "Python 3",
   "language": "python",
   "name": "python3"
  },
  "language_info": {
   "codemirror_mode": {
    "name": "ipython",
    "version": 3
   },
   "file_extension": ".py",
   "mimetype": "text/x-python",
   "name": "python",
   "nbconvert_exporter": "python",
   "pygments_lexer": "ipython3",
   "version": "3.7.5"
  }
 },
 "nbformat": 4,
 "nbformat_minor": 4
}
